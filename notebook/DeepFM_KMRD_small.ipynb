{
 "cells": [
  {
   "cell_type": "code",
   "execution_count": 1,
   "metadata": {},
   "outputs": [],
   "source": [
    "module_path = '/Users/kakao/study/RecModel'\n",
    "import sys\n",
    "sys.path.append(module_path)\n",
    "\n",
    "import argparse\n",
    "\n",
    "import pandas as pd\n",
    "import numpy as np\n",
    "import pytorch_lightning as pl\n",
    "import torch\n",
    "from torch.utils.data import DataLoader, random_split\n",
    "\n",
    "from src.utils.custom_dataset import DeepFMDataset\n",
    "from src.lit_model.lit_DeepFM import LitDeepFM\n",
    "from src.model.DeepFM import DeepFM"
   ]
  },
  {
   "cell_type": "code",
   "execution_count": 2,
   "metadata": {},
   "outputs": [],
   "source": [
    "def define_argparser():\n",
    "    parser = argparse.ArgumentParser()\n",
    "\n",
    "    parser.add_argument(\"--project\", default=\"DeepFM\")\n",
    "    parser.add_argument(\n",
    "        \"--batch_size\",\n",
    "        type=int,\n",
    "        default=256,\n",
    "        help=\"input batch size for training (default: 256)\",\n",
    "    )\n",
    "    parser.add_argument(\n",
    "        \"--embed_dim\",\n",
    "        type=int,\n",
    "        default=16,\n",
    "        help=\"embedding dimensions (default: 16)\",\n",
    "    )\n",
    "    parser.add_argument(\n",
    "        \"--deep_output_dim\",\n",
    "        type=int,\n",
    "        default=16,\n",
    "        help=\"output dimensions of deep component (default: 16)\",\n",
    "    )\n",
    "    parser.add_argument(\n",
    "        \"--deep_n_layers\",\n",
    "        type=int,\n",
    "        default=1,\n",
    "        help=\"num of mlp hidden layers (default: 1)\",\n",
    "    )\n",
    "    parser.add_argument(\n",
    "        \"--deep_dropout\",\n",
    "        type=float,\n",
    "        default=0.2,\n",
    "        help=\"dropout rate (default: 0.2)\",\n",
    "    )\n",
    "    parser.add_argument(\n",
    "        \"--epochs\", type=int, default=10, help=\"number of epochs to train (default: 3)\"\n",
    "    )\n",
    "    parser.add_argument(\"--cuda\", type=int, default=0, help=\"0 for cpu -1 for all gpu\")\n",
    "    config = parser.parse_args(args=[])  # in jupyter notebook\n",
    "    if config.cuda == 0 or torch.cuda.is_available() is False:\n",
    "        config.cuda = 0\n",
    "\n",
    "    return config\n",
    "\n",
    "config = define_argparser()"
   ]
  },
  {
   "cell_type": "code",
   "execution_count": 3,
   "metadata": {},
   "outputs": [
    {
     "data": {
      "text/plain": [
       "Namespace(project='DeepFM', batch_size=256, embed_dim=16, deep_output_dim=16, deep_n_layers=1, deep_dropout=0.2, epochs=10, cuda=0)"
      ]
     },
     "execution_count": 3,
     "metadata": {},
     "output_type": "execute_result"
    }
   ],
   "source": [
    "config"
   ]
  },
  {
   "cell_type": "code",
   "execution_count": 4,
   "metadata": {},
   "outputs": [
    {
     "name": "stdout",
     "output_type": "stream",
     "text": [
      "(140710, 4)\n"
     ]
    }
   ],
   "source": [
    "data_path = \"../data/kmrd_small/rates.csv\"\n",
    "data = pd.read_csv(data_path)\n",
    "\n",
    "print(data.shape)"
   ]
  },
  {
   "cell_type": "code",
   "execution_count": 5,
   "metadata": {},
   "outputs": [
    {
     "name": "stdout",
     "output_type": "stream",
     "text": [
      "data.shape=(100000, 4)\n"
     ]
    },
    {
     "data": {
      "text/html": [
       "<div>\n",
       "<style scoped>\n",
       "    .dataframe tbody tr th:only-of-type {\n",
       "        vertical-align: middle;\n",
       "    }\n",
       "\n",
       "    .dataframe tbody tr th {\n",
       "        vertical-align: top;\n",
       "    }\n",
       "\n",
       "    .dataframe thead th {\n",
       "        text-align: right;\n",
       "    }\n",
       "</style>\n",
       "<table border=\"1\" class=\"dataframe\">\n",
       "  <thead>\n",
       "    <tr style=\"text-align: right;\">\n",
       "      <th></th>\n",
       "      <th>user</th>\n",
       "      <th>movie</th>\n",
       "      <th>rate</th>\n",
       "      <th>time</th>\n",
       "    </tr>\n",
       "  </thead>\n",
       "  <tbody>\n",
       "    <tr>\n",
       "      <th>0</th>\n",
       "      <td>0</td>\n",
       "      <td>10003</td>\n",
       "      <td>7</td>\n",
       "      <td>1494128040</td>\n",
       "    </tr>\n",
       "    <tr>\n",
       "      <th>1</th>\n",
       "      <td>0</td>\n",
       "      <td>10004</td>\n",
       "      <td>7</td>\n",
       "      <td>1467529800</td>\n",
       "    </tr>\n",
       "    <tr>\n",
       "      <th>2</th>\n",
       "      <td>0</td>\n",
       "      <td>10018</td>\n",
       "      <td>9</td>\n",
       "      <td>1513344120</td>\n",
       "    </tr>\n",
       "    <tr>\n",
       "      <th>3</th>\n",
       "      <td>0</td>\n",
       "      <td>10021</td>\n",
       "      <td>9</td>\n",
       "      <td>1424497980</td>\n",
       "    </tr>\n",
       "    <tr>\n",
       "      <th>4</th>\n",
       "      <td>0</td>\n",
       "      <td>10022</td>\n",
       "      <td>7</td>\n",
       "      <td>1427627340</td>\n",
       "    </tr>\n",
       "  </tbody>\n",
       "</table>\n",
       "</div>"
      ],
      "text/plain": [
       "   user  movie  rate        time\n",
       "0     0  10003     7  1494128040\n",
       "1     0  10004     7  1467529800\n",
       "2     0  10018     9  1513344120\n",
       "3     0  10021     9  1424497980\n",
       "4     0  10022     7  1427627340"
      ]
     },
     "execution_count": 5,
     "metadata": {},
     "output_type": "execute_result"
    }
   ],
   "source": [
    "N_SAMPLES = 100000\n",
    "\n",
    "data = data[:N_SAMPLES]\n",
    "\n",
    "print(f'data.shape={data.shape}')\n",
    "data.head()\n"
   ]
  },
  {
   "cell_type": "code",
   "execution_count": 6,
   "metadata": {},
   "outputs": [],
   "source": [
    "train_ratio = 0.8\n",
    "\n",
    "DeepFM_dataset = DeepFMDataset(data)\n",
    "\n",
    "train_dataset, valid_dataset = random_split(\n",
    "    DeepFM_dataset, [train_ratio, 1.0 - train_ratio]\n",
    ")"
   ]
  },
  {
   "cell_type": "code",
   "execution_count": 7,
   "metadata": {},
   "outputs": [
    {
     "data": {
      "text/plain": [
       "(array([7811,  101], dtype=int32), 0.0)"
      ]
     },
     "execution_count": 7,
     "metadata": {},
     "output_type": "execute_result"
    }
   ],
   "source": [
    "# return: user field index, item field index, target\n",
    "train_dataset[0]"
   ]
  },
  {
   "cell_type": "code",
   "execution_count": 8,
   "metadata": {},
   "outputs": [],
   "source": [
    "train_loader = DataLoader(train_dataset, batch_size=config.batch_size)\n",
    "valid_loader = DataLoader(valid_dataset, batch_size=config.batch_size)"
   ]
  },
  {
   "cell_type": "code",
   "execution_count": 9,
   "metadata": {},
   "outputs": [],
   "source": [
    "# torch model\n",
    "DeepFM_torch_model = DeepFM(\n",
    "    field_dims=DeepFM_dataset.field_dims,\n",
    "    embed_dim=config.embed_dim,\n",
    "    deep_output_dim=config.deep_output_dim,\n",
    "    deep_n_layers=config.deep_n_layers,\n",
    "    deep_dropout=config.deep_dropout,\n",
    ")"
   ]
  },
  {
   "cell_type": "code",
   "execution_count": 10,
   "metadata": {},
   "outputs": [],
   "source": [
    "DeepFM_lit_model = LitDeepFM(DeepFM_torch_model, config)"
   ]
  },
  {
   "cell_type": "code",
   "execution_count": 11,
   "metadata": {},
   "outputs": [
    {
     "name": "stderr",
     "output_type": "stream",
     "text": [
      "GPU available: True (mps), used: False\n",
      "TPU available: False, using: 0 TPU cores\n",
      "IPU available: False, using: 0 IPUs\n",
      "HPU available: False, using: 0 HPUs\n",
      "/Users/kakao/.pyenv/versions/3.10.12/envs/RecSys/lib/python3.10/site-packages/pytorch_lightning/trainer/setup.py:201: UserWarning: MPS available but not used. Set `accelerator` and `devices` using `Trainer(accelerator='mps', devices=1)`.\n",
      "  rank_zero_warn(\n"
     ]
    }
   ],
   "source": [
    "early_stopping_callback = pl.callbacks.EarlyStopping(\n",
    "    monitor=\"validation/loss\", mode=\"min\", patience=3\n",
    ")\n",
    "\n",
    "trainer = pl.Trainer(\n",
    "    log_every_n_steps=10,\n",
    "    max_epochs=config.epochs,\n",
    "    deterministic=True,\n",
    "    callbacks=[early_stopping_callback],\n",
    "    accelerator='cpu'\n",
    ")"
   ]
  },
  {
   "cell_type": "code",
   "execution_count": 12,
   "metadata": {},
   "outputs": [
    {
     "name": "stderr",
     "output_type": "stream",
     "text": [
      "\n",
      "  | Name      | Type           | Params\n",
      "---------------------------------------------\n",
      "0 | model     | DeepFM         | 373 K \n",
      "1 | loss_fn   | BCELoss        | 0     \n",
      "2 | train_acc | BinaryAccuracy | 0     \n",
      "3 | valid_acc | BinaryAccuracy | 0     \n",
      "4 | test_acc  | BinaryAccuracy | 0     \n",
      "---------------------------------------------\n",
      "373 K     Trainable params\n",
      "0         Non-trainable params\n",
      "373 K     Total params\n",
      "1.494     Total estimated model params size (MB)\n"
     ]
    },
    {
     "name": "stdout",
     "output_type": "stream",
     "text": [
      "                                                                            "
     ]
    },
    {
     "name": "stderr",
     "output_type": "stream",
     "text": [
      "/Users/kakao/.pyenv/versions/3.10.12/envs/RecSys/lib/python3.10/site-packages/pytorch_lightning/trainer/connectors/data_connector.py:432: PossibleUserWarning: The dataloader, val_dataloader, does not have many workers which may be a bottleneck. Consider increasing the value of the `num_workers` argument` (try 10 which is the number of cpus on this machine) in the `DataLoader` init to improve performance.\n",
      "  rank_zero_warn(\n",
      "/Users/kakao/.pyenv/versions/3.10.12/envs/RecSys/lib/python3.10/site-packages/pytorch_lightning/trainer/connectors/data_connector.py:432: PossibleUserWarning: The dataloader, train_dataloader, does not have many workers which may be a bottleneck. Consider increasing the value of the `num_workers` argument` (try 10 which is the number of cpus on this machine) in the `DataLoader` init to improve performance.\n",
      "  rank_zero_warn(\n"
     ]
    },
    {
     "name": "stdout",
     "output_type": "stream",
     "text": [
      "Epoch 3: 100%|██████████| 313/313 [00:02<00:00, 143.67it/s, v_num=6, train/loss=0.302, validation/loss=0.588, validation/acc=0.754, train/acc=0.835]\n"
     ]
    }
   ],
   "source": [
    "# fit the model\n",
    "trainer.fit(model=DeepFM_lit_model, train_dataloaders=train_loader, val_dataloaders=valid_loader)"
   ]
  },
  {
   "cell_type": "code",
   "execution_count": 13,
   "metadata": {},
   "outputs": [],
   "source": [
    "from sklearn.metrics import accuracy_score"
   ]
  },
  {
   "cell_type": "code",
   "execution_count": 14,
   "metadata": {},
   "outputs": [
    {
     "name": "stdout",
     "output_type": "stream",
     "text": [
      "Acc = 0.7537\n"
     ]
    }
   ],
   "source": [
    "pred = []\n",
    "true = []\n",
    "for x, y in valid_loader:\n",
    "    result = DeepFM_torch_model(x)\n",
    "    pred += result.tolist()\n",
    "    true += y.tolist()\n",
    "    \n",
    "pred = np.where(np.array(pred) > 0.5, 1, 0)\n",
    "\n",
    "acc = accuracy_score(true, pred)\n",
    "\n",
    "print(f\"Acc = {round(acc, 4)}\")"
   ]
  }
 ],
 "metadata": {
  "kernelspec": {
   "display_name": "RecSys",
   "language": "python",
   "name": "python3"
  },
  "language_info": {
   "codemirror_mode": {
    "name": "ipython",
    "version": 3
   },
   "file_extension": ".py",
   "mimetype": "text/x-python",
   "name": "python",
   "nbconvert_exporter": "python",
   "pygments_lexer": "ipython3",
   "version": "3.10.12"
  },
  "orig_nbformat": 4
 },
 "nbformat": 4,
 "nbformat_minor": 2
}
