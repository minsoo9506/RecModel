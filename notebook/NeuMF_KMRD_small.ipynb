{
 "cells": [
  {
   "cell_type": "code",
   "execution_count": 1,
   "metadata": {},
   "outputs": [],
   "source": [
    "module_path = '/Users/kakao/study/RecModel'\n",
    "import sys\n",
    "sys.path.append(module_path)\n",
    "\n",
    "import argparse\n",
    "\n",
    "import pandas as pd\n",
    "import numpy as np\n",
    "import pytorch_lightning as pl\n",
    "import torch\n",
    "from torch.utils.data import DataLoader, random_split\n",
    "\n",
    "from src.utils.load_data import EmbeddingIndexGenerater, RandomNegativeSampler\n",
    "from src.utils.custom_dataset import NeuMFDataset\n",
    "from src.lit_model.lit_NeuMF import LitNeuMF\n",
    "from src.model.NeuMF import NeuralMatrixFactorization"
   ]
  },
  {
   "cell_type": "code",
   "execution_count": 2,
   "metadata": {},
   "outputs": [],
   "source": [
    "def define_argparser():\n",
    "    parser = argparse.ArgumentParser()\n",
    "\n",
    "    parser.add_argument(\"--project\", default=\"NCF\")\n",
    "    parser.add_argument(\n",
    "        \"--batch_size\",\n",
    "        type=int,\n",
    "        default=256,\n",
    "        help=\"input batch size for training (default: 256)\",\n",
    "    )\n",
    "    parser.add_argument(\n",
    "        \"--gmf_emb_dim\",\n",
    "        type=int,\n",
    "        default=16,\n",
    "        help=\"input GMF embedding dimension for training (default: 16)\",\n",
    "    )\n",
    "    parser.add_argument(\n",
    "        \"--mlp_emb_dim\",\n",
    "        type=int,\n",
    "        default=16,\n",
    "        help=\"input MLP embedding dimension for training (default: 16)\",\n",
    "    )\n",
    "    parser.add_argument(\n",
    "        \"--mlp_hidden_dim_list\",\n",
    "        default=[32, 16, 8],\n",
    "        help=\"MLP hidden layer dimension list (default: [32, 16, 8])\",\n",
    "    )\n",
    "    parser.add_argument(\n",
    "        \"--epochs\", type=int, default=10, help=\"number of epochs to train (default: 10)\"\n",
    "    )\n",
    "    parser.add_argument(\"--cuda\", type=int, default=0, help=\"0 for cpu -1 for all gpu\")\n",
    "    config = parser.parse_args(args=[]) # add [] in jupyter notebook\n",
    "    if config.cuda == 0 or torch.cuda.is_available() is False:\n",
    "        config.cuda = 0\n",
    "\n",
    "    return config"
   ]
  },
  {
   "cell_type": "code",
   "execution_count": 3,
   "metadata": {},
   "outputs": [
    {
     "data": {
      "text/plain": [
       "Namespace(project='NCF', batch_size=256, gmf_emb_dim=16, mlp_emb_dim=16, mlp_hidden_dim_list=[32, 16, 8], epochs=10, cuda=0)"
      ]
     },
     "execution_count": 3,
     "metadata": {},
     "output_type": "execute_result"
    }
   ],
   "source": [
    "config = define_argparser()\n",
    "\n",
    "config"
   ]
  },
  {
   "cell_type": "code",
   "execution_count": 4,
   "metadata": {},
   "outputs": [
    {
     "name": "stdout",
     "output_type": "stream",
     "text": [
      "(140710, 4)\n",
      "data.shape=(100000, 4)\n"
     ]
    },
    {
     "data": {
      "text/html": [
       "<div>\n",
       "<style scoped>\n",
       "    .dataframe tbody tr th:only-of-type {\n",
       "        vertical-align: middle;\n",
       "    }\n",
       "\n",
       "    .dataframe tbody tr th {\n",
       "        vertical-align: top;\n",
       "    }\n",
       "\n",
       "    .dataframe thead th {\n",
       "        text-align: right;\n",
       "    }\n",
       "</style>\n",
       "<table border=\"1\" class=\"dataframe\">\n",
       "  <thead>\n",
       "    <tr style=\"text-align: right;\">\n",
       "      <th></th>\n",
       "      <th>user</th>\n",
       "      <th>item</th>\n",
       "      <th>interaction</th>\n",
       "    </tr>\n",
       "  </thead>\n",
       "  <tbody>\n",
       "    <tr>\n",
       "      <th>0</th>\n",
       "      <td>0</td>\n",
       "      <td>10003</td>\n",
       "      <td>1</td>\n",
       "    </tr>\n",
       "    <tr>\n",
       "      <th>1</th>\n",
       "      <td>0</td>\n",
       "      <td>10004</td>\n",
       "      <td>1</td>\n",
       "    </tr>\n",
       "    <tr>\n",
       "      <th>2</th>\n",
       "      <td>0</td>\n",
       "      <td>10018</td>\n",
       "      <td>1</td>\n",
       "    </tr>\n",
       "    <tr>\n",
       "      <th>3</th>\n",
       "      <td>0</td>\n",
       "      <td>10021</td>\n",
       "      <td>1</td>\n",
       "    </tr>\n",
       "    <tr>\n",
       "      <th>4</th>\n",
       "      <td>0</td>\n",
       "      <td>10022</td>\n",
       "      <td>1</td>\n",
       "    </tr>\n",
       "  </tbody>\n",
       "</table>\n",
       "</div>"
      ],
      "text/plain": [
       "   user   item  interaction\n",
       "0     0  10003            1\n",
       "1     0  10004            1\n",
       "2     0  10018            1\n",
       "3     0  10021            1\n",
       "4     0  10022            1"
      ]
     },
     "execution_count": 4,
     "metadata": {},
     "output_type": "execute_result"
    }
   ],
   "source": [
    "data_path = \"../data/kmrd_small/rates.csv\"\n",
    "data = pd.read_csv(data_path)\n",
    "\n",
    "print(data.shape)\n",
    "\n",
    "N_SAMPLES = 100000\n",
    "\n",
    "data = data[:N_SAMPLES]\n",
    "\n",
    "print(f'data.shape={data.shape}')\n",
    "data = data.drop('time', axis=1)\n",
    "data.columns = ['user', 'item', 'interaction']\n",
    "data['interaction'] = 1\n",
    "data.head()\n",
    "\n"
   ]
  },
  {
   "cell_type": "code",
   "execution_count": 5,
   "metadata": {},
   "outputs": [
    {
     "data": {
      "text/plain": [
       "array([ True,  True,  True])"
      ]
     },
     "execution_count": 5,
     "metadata": {},
     "output_type": "execute_result"
    }
   ],
   "source": [
    "data.columns == ['user', 'item', 'interaction']"
   ]
  },
  {
   "cell_type": "code",
   "execution_count": 6,
   "metadata": {},
   "outputs": [],
   "source": [
    "embedding_index_generator = EmbeddingIndexGenerater(data)\n",
    "\n",
    "data['user'] = data['user'].map(embedding_index_generator.user_to_idx)\n",
    "data['item'] = data['item'].map(embedding_index_generator.item_to_idx)"
   ]
  },
  {
   "cell_type": "code",
   "execution_count": 7,
   "metadata": {},
   "outputs": [
    {
     "data": {
      "text/html": [
       "<div>\n",
       "<style scoped>\n",
       "    .dataframe tbody tr th:only-of-type {\n",
       "        vertical-align: middle;\n",
       "    }\n",
       "\n",
       "    .dataframe tbody tr th {\n",
       "        vertical-align: top;\n",
       "    }\n",
       "\n",
       "    .dataframe thead th {\n",
       "        text-align: right;\n",
       "    }\n",
       "</style>\n",
       "<table border=\"1\" class=\"dataframe\">\n",
       "  <thead>\n",
       "    <tr style=\"text-align: right;\">\n",
       "      <th></th>\n",
       "      <th>user</th>\n",
       "      <th>item</th>\n",
       "      <th>interaction</th>\n",
       "    </tr>\n",
       "  </thead>\n",
       "  <tbody>\n",
       "    <tr>\n",
       "      <th>0</th>\n",
       "      <td>0</td>\n",
       "      <td>0</td>\n",
       "      <td>1</td>\n",
       "    </tr>\n",
       "    <tr>\n",
       "      <th>1</th>\n",
       "      <td>0</td>\n",
       "      <td>1</td>\n",
       "      <td>1</td>\n",
       "    </tr>\n",
       "    <tr>\n",
       "      <th>2</th>\n",
       "      <td>0</td>\n",
       "      <td>2</td>\n",
       "      <td>1</td>\n",
       "    </tr>\n",
       "    <tr>\n",
       "      <th>3</th>\n",
       "      <td>0</td>\n",
       "      <td>3</td>\n",
       "      <td>1</td>\n",
       "    </tr>\n",
       "    <tr>\n",
       "      <th>4</th>\n",
       "      <td>0</td>\n",
       "      <td>4</td>\n",
       "      <td>1</td>\n",
       "    </tr>\n",
       "  </tbody>\n",
       "</table>\n",
       "</div>"
      ],
      "text/plain": [
       "   user  item  interaction\n",
       "0     0     0            1\n",
       "1     0     1            1\n",
       "2     0     2            1\n",
       "3     0     3            1\n",
       "4     0     4            1"
      ]
     },
     "execution_count": 7,
     "metadata": {},
     "output_type": "execute_result"
    }
   ],
   "source": [
    "data.head()"
   ]
  },
  {
   "cell_type": "code",
   "execution_count": 8,
   "metadata": {},
   "outputs": [],
   "source": [
    "radom_negetive_sampler = RandomNegativeSampler(data, neg_samples_per_pos=1)\n",
    "df = radom_negetive_sampler.negative_sampling(seed=0)"
   ]
  },
  {
   "cell_type": "code",
   "execution_count": 9,
   "metadata": {},
   "outputs": [],
   "source": [
    "train_ratio = 0.8\n",
    "\n",
    "NeuMF_dataset = NeuMFDataset(df[:, :2], df[:, 2])\n",
    "\n",
    "seed = torch.Generator().manual_seed(42)\n",
    "train_dataset, valid_dataset = random_split(\n",
    "    NeuMF_dataset, [train_ratio, 1.0 - train_ratio], generator=seed\n",
    ")"
   ]
  },
  {
   "cell_type": "code",
   "execution_count": 10,
   "metadata": {},
   "outputs": [],
   "source": [
    "num_users = max(df[:, 0]) + 1\n",
    "num_items = max(df[:, 1]) + 1"
   ]
  },
  {
   "cell_type": "code",
   "execution_count": 11,
   "metadata": {},
   "outputs": [
    {
     "data": {
      "text/plain": [
       "(tensor([12562,   238]), tensor(0.))"
      ]
     },
     "execution_count": 11,
     "metadata": {},
     "output_type": "execute_result"
    }
   ],
   "source": [
    "# return: user field index, item field index, target\n",
    "train_dataset[0]"
   ]
  },
  {
   "cell_type": "code",
   "execution_count": 12,
   "metadata": {},
   "outputs": [],
   "source": [
    "train_loader = DataLoader(train_dataset, batch_size=config.batch_size)\n",
    "valid_loader = DataLoader(valid_dataset, batch_size=config.batch_size)"
   ]
  },
  {
   "cell_type": "code",
   "execution_count": 13,
   "metadata": {},
   "outputs": [],
   "source": [
    "# torch model\n",
    "torch_NeuMF = NeuralMatrixFactorization(\n",
    "    num_users= num_users,\n",
    "    num_items= num_items,\n",
    "    gmf_emb_dim=config.gmf_emb_dim,\n",
    "    mlp_emb_dim=config.mlp_emb_dim,\n",
    "    mlp_hidden_dim_list=config.mlp_hidden_dim_list\n",
    ")"
   ]
  },
  {
   "cell_type": "code",
   "execution_count": 14,
   "metadata": {},
   "outputs": [
    {
     "data": {
      "text/plain": [
       "NeuralMatrixFactorization(\n",
       "  (gmf_user_emb): Embedding(21351, 16)\n",
       "  (gmf_item_emb): Embedding(592, 16)\n",
       "  (mlp_user_emb): Embedding(21351, 16)\n",
       "  (mlp_item_emb): Embedding(592, 16)\n",
       "  (mlp): Sequential(\n",
       "    (0): Linear(in_features=32, out_features=16, bias=True)\n",
       "    (1): ReLU()\n",
       "    (2): Linear(in_features=16, out_features=8, bias=True)\n",
       "  )\n",
       "  (NeuMF_layer): Linear(in_features=24, out_features=1, bias=True)\n",
       "  (sigmoid): Sigmoid()\n",
       ")"
      ]
     },
     "execution_count": 14,
     "metadata": {},
     "output_type": "execute_result"
    }
   ],
   "source": [
    "torch_NeuMF"
   ]
  },
  {
   "cell_type": "code",
   "execution_count": 15,
   "metadata": {},
   "outputs": [],
   "source": [
    "NeuMF_lit_model = LitNeuMF(torch_NeuMF, config)"
   ]
  },
  {
   "cell_type": "code",
   "execution_count": 16,
   "metadata": {},
   "outputs": [
    {
     "name": "stderr",
     "output_type": "stream",
     "text": [
      "GPU available: True (mps), used: False\n",
      "TPU available: False, using: 0 TPU cores\n",
      "IPU available: False, using: 0 IPUs\n",
      "HPU available: False, using: 0 HPUs\n",
      "/Users/kakao/.pyenv/versions/3.10.12/envs/RecSys/lib/python3.10/site-packages/pytorch_lightning/trainer/setup.py:201: UserWarning: MPS available but not used. Set `accelerator` and `devices` using `Trainer(accelerator='mps', devices=1)`.\n",
      "  rank_zero_warn(\n"
     ]
    }
   ],
   "source": [
    "early_stopping_callback = pl.callbacks.EarlyStopping(\n",
    "    monitor=\"validation/loss\", mode=\"min\", patience=3\n",
    ")\n",
    "\n",
    "trainer = pl.Trainer(\n",
    "    log_every_n_steps=10,\n",
    "    max_epochs=config.epochs,\n",
    "    deterministic=True,\n",
    "    callbacks=[early_stopping_callback],\n",
    "    accelerator='cpu'\n",
    ")"
   ]
  },
  {
   "cell_type": "code",
   "execution_count": 17,
   "metadata": {},
   "outputs": [
    {
     "name": "stderr",
     "output_type": "stream",
     "text": [
      "\n",
      "  | Name      | Type                      | Params\n",
      "--------------------------------------------------------\n",
      "0 | model     | NeuralMatrixFactorization | 702 K \n",
      "1 | loss_fn   | BCELoss                   | 0     \n",
      "2 | train_acc | BinaryAccuracy            | 0     \n",
      "3 | valid_acc | BinaryAccuracy            | 0     \n",
      "4 | test_acc  | BinaryAccuracy            | 0     \n",
      "--------------------------------------------------------\n",
      "702 K     Trainable params\n",
      "0         Non-trainable params\n",
      "702 K     Total params\n",
      "2.811     Total estimated model params size (MB)\n"
     ]
    },
    {
     "name": "stdout",
     "output_type": "stream",
     "text": [
      "                                                                           "
     ]
    },
    {
     "name": "stderr",
     "output_type": "stream",
     "text": [
      "/Users/kakao/.pyenv/versions/3.10.12/envs/RecSys/lib/python3.10/site-packages/pytorch_lightning/trainer/connectors/data_connector.py:432: PossibleUserWarning: The dataloader, val_dataloader, does not have many workers which may be a bottleneck. Consider increasing the value of the `num_workers` argument` (try 10 which is the number of cpus on this machine) in the `DataLoader` init to improve performance.\n",
      "  rank_zero_warn(\n",
      "/Users/kakao/.pyenv/versions/3.10.12/envs/RecSys/lib/python3.10/site-packages/pytorch_lightning/trainer/connectors/data_connector.py:432: PossibleUserWarning: The dataloader, train_dataloader, does not have many workers which may be a bottleneck. Consider increasing the value of the `num_workers` argument` (try 10 which is the number of cpus on this machine) in the `DataLoader` init to improve performance.\n",
      "  rank_zero_warn(\n"
     ]
    },
    {
     "name": "stdout",
     "output_type": "stream",
     "text": [
      "Epoch 8: 100%|██████████| 645/645 [00:04<00:00, 145.39it/s, v_num=4, train/loss=0.128, validation/loss=0.356, validation/acc=0.854, train/acc=0.907]\n"
     ]
    }
   ],
   "source": [
    "# fit the model\n",
    "trainer.fit(model=NeuMF_lit_model, train_dataloaders=train_loader, val_dataloaders=valid_loader)"
   ]
  },
  {
   "cell_type": "code",
   "execution_count": 18,
   "metadata": {},
   "outputs": [],
   "source": [
    "from sklearn.metrics import accuracy_score"
   ]
  },
  {
   "cell_type": "code",
   "execution_count": 19,
   "metadata": {},
   "outputs": [
    {
     "name": "stdout",
     "output_type": "stream",
     "text": [
      "Acc = 0.854\n"
     ]
    }
   ],
   "source": [
    "pred = []\n",
    "true = []\n",
    "for x, y in valid_loader:\n",
    "    result = NeuMF_lit_model(x)\n",
    "    pred += result.tolist()\n",
    "    true += y.tolist()\n",
    "    \n",
    "pred = np.where(np.array(pred) > 0.5, 1, 0)\n",
    "\n",
    "acc = accuracy_score(true, pred)\n",
    "\n",
    "print(f\"Acc = {round(acc, 4)}\")"
   ]
  }
 ],
 "metadata": {
  "kernelspec": {
   "display_name": "RecSys",
   "language": "python",
   "name": "python3"
  },
  "language_info": {
   "codemirror_mode": {
    "name": "ipython",
    "version": 3
   },
   "file_extension": ".py",
   "mimetype": "text/x-python",
   "name": "python",
   "nbconvert_exporter": "python",
   "pygments_lexer": "ipython3",
   "version": "3.10.12"
  },
  "orig_nbformat": 4
 },
 "nbformat": 4,
 "nbformat_minor": 2
}
